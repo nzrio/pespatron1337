{
 "cells": [
  {
   "cell_type": "markdown",
   "metadata": {},
   "source": [
    "### Типи змінних\n",
    "#### Стрічкові змінні\n",
    "* змінна це просто ім'я (буква або набір букв або цифр) яке містить значення"
   ]
  },
  {
   "cell_type": "code",
   "execution_count": 1,
   "metadata": {},
   "outputs": [
    {
     "name": "stdout",
     "output_type": "stream",
     "text": [
      "102\n"
     ]
    }
   ],
   "source": [
    "\n",
    "# Додавання двох чисел\n",
    "A = 14\n",
    "B = 88\n",
    "C = A + B\n",
    "print(C)"
   ]
  },
  {
   "cell_type": "code",
   "execution_count": 2,
   "metadata": {},
   "outputs": [
    {
     "name": "stdout",
     "output_type": "stream",
     "text": [
      "pespatron1337 102\n"
     ]
    }
   ],
   "source": [
    "\n",
    "#- дає можливість писати коментарі\n",
    "v = 'pespatron1337'\n",
    "print(v, C)"
   ]
  },
  {
   "cell_type": "markdown",
   "metadata": {},
   "source": [
    ">  така помилка виводиться якщо забрати змінну 'C'\n",
    "``` python\n",
    "---------------------------------------------------------------------------\n",
    "NameError                                 Traceback (most recent call last)\n",
    "Cell In[2], line 3\n",
    "      1 #- дає можливість писати коментарі\n",
    "      2 v = 'pespatron1337'\n",
    "----> 3 print(v, C)\n",
    "\n",
    "NameError: name 'C' is not defined\n",
    "```"
   ]
  },
  {
   "cell_type": "code",
   "execution_count": 3,
   "metadata": {},
   "outputs": [
    {
     "name": "stdout",
     "output_type": "stream",
     "text": [
      "Перша константа:  True\n",
      " можна використати f-стрічку щоб вивести константу False\n"
     ]
    }
   ],
   "source": [
    "print(\"Перша константа: \", True)\n",
    "print(f\" можна використати f-стрічку щоб вивести константу {False}\")"
   ]
  },
  {
   "cell_type": "code",
   "execution_count": 4,
   "metadata": {},
   "outputs": [
    {
     "name": "stdout",
     "output_type": "stream",
     "text": [
      "911 не дорівнює 912\n",
      "52 дорівнює 52\n"
     ]
    }
   ],
   "source": [
    "print(abs(-911), f\"не дорівнює {abs(911+1)}\")\n",
    "print(abs(-52), f\"дорівнює {abs(52)}\")"
   ]
  },
  {
   "cell_type": "code",
   "execution_count": 8,
   "metadata": {},
   "outputs": [
    {
     "name": "stdout",
     "output_type": "stream",
     "text": [
      "Значить Z=True\n",
      "Якщо B=False\n"
     ]
    }
   ],
   "source": [
    "Z = True\n",
    "print(\"Значить Z=True\" if Z else \"Значить Z=False\")\n",
    "B = True\n",
    "print(\"Якщо B=False\" if B else \"тоді B=True\")"
   ]
  },
  {
   "cell_type": "code",
   "execution_count": 9,
   "metadata": {},
   "outputs": [
    {
     "name": "stdout",
     "output_type": "stream",
     "text": [
      "На позиції 0 знаходиться буква E\n",
      "На позиції 1 знаходиться буква J\n",
      "На позиції 2 знаходиться буква V\n"
     ]
    }
   ],
   "source": [
    "#Позиції в пайтоні рахуються з нуля\n",
    "letters = [\"E\", \"J\", \"V\"]\n",
    "for i in range(len(letters)):\n",
    "    print(f\"На позиції {i} знаходиться буква {letters[i]}\")"
   ]
  },
  {
   "cell_type": "code",
   "execution_count": 17,
   "metadata": {},
   "outputs": [
    {
     "name": "stdout",
     "output_type": "stream",
     "text": [
      "Рахуємо значення... \n",
      "Вирахуване значення =  1488.0\n"
     ]
    }
   ],
   "source": [
    "Ділення = 2\n",
    "try:\n",
    "    print(\"Рахуємо значення... \")\n",
    "except Exception as Ділення:\n",
    "    print(Ділення)\n",
    "finally:\n",
    "    print(\"Вирахуване значення = \" , 2976/Ділення)"
   ]
  },
  {
   "cell_type": "code",
   "execution_count": 23,
   "metadata": {},
   "outputs": [
    {
     "name": "stdout",
     "output_type": "stream",
     "text": [
      "# Лабораторна робота №2 - Звіт\n",
      "\n",
      "\n",
      "\n",
      "## Мета роботи\n",
      "\n",
      "Навчитися працювати з основними типами даних у Python, засвоїти застосування змінних різних типів, а також освоїти роботу з циклами, умовними операторами, конструкцією try-except-finally, контекстними менеджерами та лямбда-функціями.\n",
      "\n",
      "\n",
      "\n",
      "## Виконані завдання\n",
      "\n",
      "\n",
      "\n",
      "1. Типи даних: Створено змінні основних типів, таких як рядок (str), ціле число (int), число з плаваючою точкою (float), список (list), словник (dict), кортеж (tuple) і множина (set). Ці типи забезпечують можливість зберігати різну інформацію та надають специфічні можливості для роботи з даними.\n",
      "\n",
      "\n",
      "\n",
      "2. Вбудовані константи: Для демонстрації використання констант у Python було виведено значення True, None та False.\n",
      "\n",
      "\n",
      "\n",
      "3. Вбудовані функції: Продемонстровано застосування кількох вбудованих функцій Python, зокрема abs() для знаходження модуля, max() для отримання найбільшого значення в колекції та len() для визначення довжини рядка.\n",
      "\n",
      "\n",
      "\n",
      "4. Цикли: Використано цикл for для перебору елементів списку та while для виконання умовних повторень.\n",
      "\n",
      "\n",
      "\n",
      "5. Умовні конструкції: Використано оператори if, elif та else для реалізації логічного розгалуження залежно від умов.\n",
      "\n",
      "\n",
      "\n",
      "6. Обробка помилок: Застосовано конструкцію try-except-finally для обробки можливих виключень, що дозволяє керувати помилками під час виконання та забезпечує виконання завершальних дій, незалежно від наявності помилок.\n",
      "\n",
      "\n",
      "\n",
      "7. Контекстний менеджер: Використано конструкцію with для безпечного відкриття файлу, що гарантує автоматичне закриття файлу після завершення роботи з ним.\n",
      "\n",
      "\n",
      "\n",
      "8. Лямбда-функції: Створено і застосовано лямбда-функцію для демонстрації її можливостей у Python. Лямбда-функції дозволяють створювати короткі, анонімні функції, які зручно використовувати для одноразових обчислень.\n"
     ]
    }
   ],
   "source": [
    "with open(\"README.md\", \"r\", encoding=\"(utf-8)\") as f:\n",
    "    for line in f:\n",
    "        print(line)\n",
    "#Сталась помилка і я звернувся до свого зеленого друга шоб він допоміг її вирішити, і запропонованим варіантом було змінити кодування, це я і зробив."
   ]
  },
  {
   "cell_type": "code",
   "execution_count": 29,
   "metadata": {},
   "outputs": [
    {
     "name": "stdout",
     "output_type": "stream",
     "text": [
      "Викликана адреса в пам'яті пайтон: <function <lambda> at 0x00000162BA4E9B20>\n",
      "Ось виклик функції: Наш слон:  Пес,  Патрон, стаж -  69 років\n"
     ]
    }
   ],
   "source": [
    "my_gamma = lambda name, surname, age: f'Наш слон:  {name},  {surname}, стаж -  {age} років'\n",
    "print(\"Викликана адреса в пам'яті пайтон:\", my_gamma)\n",
    "print(\"Ось виклик функції:\", my_gamma('Пес', 'Патрон', 69))"
   ]
  }
 ],
 "metadata": {
  "kernelspec": {
   "display_name": "Python 3",
   "language": "python",
   "name": "python3"
  },
  "language_info": {
   "codemirror_mode": {
    "name": "ipython",
    "version": 3
   },
   "file_extension": ".py",
   "mimetype": "text/x-python",
   "name": "python",
   "nbconvert_exporter": "python",
   "pygments_lexer": "ipython3",
   "version": "3.11.9"
  }
 },
 "nbformat": 4,
 "nbformat_minor": 2
}
