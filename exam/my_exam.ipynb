{
 "cells": [
  {
   "cell_type": "markdown",
   "metadata": {},
   "source": [
    "# Завдання до екзамену\n",
    "- клас з конструктором та зробити два аргументи "
   ]
  },
  {
   "cell_type": "code",
   "execution_count": 2,
   "metadata": {},
   "outputs": [
    {
     "name": "stdout",
     "output_type": "stream",
     "text": [
      "Аргументи 1: Lifestealer\n",
      "Аргументи 2: 9223\n"
     ]
    }
   ],
   "source": [
    "class Easyline:\n",
    "    def __init__(self, arg1, arg2):\n",
    "        self.arg1 = arg1\n",
    "        self.arg2 = arg2\n",
    "\n",
    "    def display(self):\n",
    "        print(f\"Аргументи 1: {self.arg1}\")\n",
    "        print(f\"Аргументи 2: {self.arg2}\")\n",
    "\n",
    "# Створюємо об'єкт класу з двома аргументами\n",
    "obj = Easyline(\"Lifestealer\", 9223)\n",
    "\n",
    "# Викликаємо метод для відображення значень аргументів\n",
    "obj.display()\n"
   ]
  }
 ],
 "metadata": {
  "kernelspec": {
   "display_name": "Python 3",
   "language": "python",
   "name": "python3"
  },
  "language_info": {
   "codemirror_mode": {
    "name": "ipython",
    "version": 3
   },
   "file_extension": ".py",
   "mimetype": "text/x-python",
   "name": "python",
   "nbconvert_exporter": "python",
   "pygments_lexer": "ipython3",
   "version": "3.11.9"
  }
 },
 "nbformat": 4,
 "nbformat_minor": 2
}
