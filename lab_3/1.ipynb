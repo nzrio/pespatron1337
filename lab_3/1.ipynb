{
 "cells": [
  {
   "cell_type": "code",
   "execution_count": 36,
   "metadata": {},
   "outputs": [
    {
     "data": {
      "text/plain": [
       "<module 'my_class' from 'c:\\\\Users\\\\nazar\\\\OneDrive\\\\Рабочий стол\\\\papka\\\\pespatron1337\\\\lab_3\\\\my_class.py'>"
      ]
     },
     "execution_count": 36,
     "metadata": {},
     "output_type": "execute_result"
    }
   ],
   "source": [
    "import importlib\n",
    "import my_class \n",
    "\n",
    "importlib.reload(my_class)"
   ]
  },
  {
   "cell_type": "code",
   "execution_count": 37,
   "metadata": {},
   "outputs": [
    {
     "name": "stdout",
     "output_type": "stream",
     "text": [
      "<class 'my_class.GG'>\n",
      "Help on class GG in module my_class:\n",
      "\n",
      "class GG(builtins.object)\n",
      " |  GG(surname: str, name, mark: int, group=None)\n",
      " |  \n",
      " |  Тестовий клас, зараз реалізуємо опис студента\n",
      " |  \n",
      " |  ---\n",
      " |  \n",
      " |  surname : str\n",
      " |      Прізвище студента\n",
      " |  \n",
      " |  Methods defined here:\n",
      " |  \n",
      " |  __del__(self)\n",
      " |  \n",
      " |  __init__(self, surname: str, name, mark: int, group=None)\n",
      " |      Ініціалізуємо обєкт\n",
      " |      - в середині конструктора створюються атрибути\n",
      " |  \n",
      " |  __len__(self)\n",
      " |  \n",
      " |  __repr__(self)\n",
      " |      Return repr(self).\n",
      " |  \n",
      " |  calculate_scholarship_after_session(self, raiting: int)\n",
      " |  \n",
      " |  fucntion_in_class(self)\n",
      " |      Це вже метод згідно термінології, і він публічний\n",
      " |  \n",
      " |  panishment(self)\n",
      " |  \n",
      " |  ----------------------------------------------------------------------\n",
      " |  Class methods defined here:\n",
      " |  \n",
      " |  create_from_name_surname(full_name: str)\n",
      " |      альтернативний конструктор, створюємо обєкт з повного імені\n",
      " |      розчеплюємо повне імя на частинки Прізкище та Імя\n",
      " |  \n",
      " |  create_from_surname_name(full_name: str)\n",
      " |      альтернативний конструктор, створюємо обєкт з повного імені\n",
      " |      розчеплюємо повне імя на частинки Прізкище та Імя\n",
      " |  \n",
      " |  ----------------------------------------------------------------------\n",
      " |  Static methods defined here:\n",
      " |  \n",
      " |  hobbi(h=None)\n",
      " |      в таких методах нема вказівника на обєкт\n",
      " |  \n",
      " |  ----------------------------------------------------------------------\n",
      " |  Readonly properties defined here:\n",
      " |  \n",
      " |  college_raiting\n",
      " |  \n",
      " |  name\n",
      " |      Ця властивість є закритою, її можна читати але не можна змінювати\n",
      " |  \n",
      " |  say_hello\n",
      " |  \n",
      " |  surname\n",
      " |  \n",
      " |  ----------------------------------------------------------------------\n",
      " |  Data descriptors defined here:\n",
      " |  \n",
      " |  __dict__\n",
      " |      dictionary for instance variables\n",
      " |  \n",
      " |  __weakref__\n",
      " |      list of weak references to the object\n",
      " |  \n",
      " |  ----------------------------------------------------------------------\n",
      " |  Data and other attributes defined here:\n",
      " |  \n",
      " |  COLLEGE_NAME = 'Це подібне до константи в клосі, але ми можемо її пере...\n",
      " |  \n",
      " |  total_marks = 0\n",
      " |  \n",
      " |  total_students = 0\n",
      " |  \n",
      " |  var_lover_case = 'Це проста класова змінна'\n",
      "\n"
     ]
    }
   ],
   "source": [
    "from my_class import GG, function_in_module\n",
    "print(GG)\n",
    "help(GG)"
   ]
  },
  {
   "cell_type": "code",
   "execution_count": 38,
   "metadata": {},
   "outputs": [
    {
     "name": "stdout",
     "output_type": "stream",
     "text": [
      "['Студент Єжова Соломія заробив оцінку 5', 'Студент Недорубан Яна заробив оцінку 1', 'Студент Базюк Орест заробив оцінку 2', 'Студент Сердючка Ярема заробив оцінку 2']\n"
     ]
    }
   ],
   "source": [
    "name = [\"Соломія\", \"Яна\", \"Орест\", \"Ярема\"]\n",
    "surname = [\"Єжова\", \"Недорубан\", \"Базюк\", \"Сердючка\"]\n",
    "mark = [5, 1, 2, 2]\n",
    "\n",
    "print([f\"Студент {surname[i]} {name[i]} заробив оцінку {mark[i]}\" for i in range(len(name))])"
   ]
  },
  {
   "cell_type": "code",
   "execution_count": 39,
   "metadata": {},
   "outputs": [
    {
     "name": "stdout",
     "output_type": "stream",
     "text": [
      "Студент Юра Стосик заробив оцінку 5\n",
      "Студент Назар Кукуруза заробив оцінку 4\n",
      "Студент Орест Рубан заробив оцінку 2\n",
      "Студент Ярема Ющак заробив оцінку 1\n"
     ]
    }
   ],
   "source": [
    "cap = {\n",
    "    \"Прізвище\": [\"Юра\", \"Назар\", \"Орест\", \"Ярема\"],\n",
    "    \"Імя\": [\"Стосик\", \"Кукуруза\", \"Рубан\", \"Ющак\"],\n",
    "    \"Оцінка\": [5, 4, 2, 1]\n",
    "}\n",
    "\n",
    "for i in range(len(cap[\"Прізвище\"])):\n",
    "    print(f\"Студент {cap['Прізвище'][i]} {cap['Імя'][i]} заробив оцінку {cap['Оцінка'][i]}\")"
   ]
  },
  {
   "cell_type": "code",
   "execution_count": 40,
   "metadata": {},
   "outputs": [
    {
     "name": "stdout",
     "output_type": "stream",
     "text": [
      "Викликаємо __init__\n",
      "Викликаємо __init__\n",
      "Викликаємо __init__\n",
      "Викликаємо __init__\n",
      "Відрахували студента\n",
      "Відрахували студента\n",
      "Відрахували студента\n",
      "Відрахували студента\n",
      "Студент Заяць Віктор отримав оцінку 2\n",
      "Студент Семків Вікторія отримав оцінку 5\n",
      "Студент Семків Марія отримав оцінку 5\n",
      "Студент Семків Ігнат отримав оцінку 2\n"
     ]
    }
   ],
   "source": [
    "from my_class import GG\n",
    "c = [GG(\"Заяць\", \"Віктор\", 2),\n",
    "     GG(\"Семків\", \"Вікторія\", 5),\n",
    "     GG(\"Семків\", \"Марія\", 5),\n",
    "     GG(\"Семків\", \"Ігнат\", 2)\n",
    "     ]\n",
    "\n",
    "for student in c:\n",
    "    print(f\"Студент {student.surname} {student.name} отримав оцінку {student.mark}\")"
   ]
  },
  {
   "cell_type": "code",
   "execution_count": 41,
   "metadata": {},
   "outputs": [
    {
     "name": "stdout",
     "output_type": "stream",
     "text": [
      "Викликаємо __init__\n",
      "Відрахували студента\n",
      "Представлення обєкту Студент, його задають: GG(surname, name, mark)\n",
      "Help on GG in module my_class object:\n",
      "\n",
      "class GG(builtins.object)\n",
      " |  GG(surname: str, name, mark: int, group=None)\n",
      " |  \n",
      " |  Тестовий клас, зараз реалізуємо опис студента\n",
      " |  \n",
      " |  ---\n",
      " |  \n",
      " |  surname : str\n",
      " |      Прізвище студента\n",
      " |  \n",
      " |  Methods defined here:\n",
      " |  \n",
      " |  __del__(self)\n",
      " |  \n",
      " |  __init__(self, surname: str, name, mark: int, group=None)\n",
      " |      Ініціалізуємо обєкт\n",
      " |      - в середині конструктора створюються атрибути\n",
      " |  \n",
      " |  __len__(self)\n",
      " |  \n",
      " |  __repr__(self)\n",
      " |      Return repr(self).\n",
      " |  \n",
      " |  calculate_scholarship_after_session(self, raiting: int)\n",
      " |  \n",
      " |  fucntion_in_class(self)\n",
      " |      Це вже метод згідно термінології, і він публічний\n",
      " |  \n",
      " |  panishment(self)\n",
      " |  \n",
      " |  ----------------------------------------------------------------------\n",
      " |  Class methods defined here:\n",
      " |  \n",
      " |  create_from_name_surname(full_name: str)\n",
      " |      альтернативний конструктор, створюємо обєкт з повного імені\n",
      " |      розчеплюємо повне імя на частинки Прізкище та Імя\n",
      " |  \n",
      " |  create_from_surname_name(full_name: str)\n",
      " |      альтернативний конструктор, створюємо обєкт з повного імені\n",
      " |      розчеплюємо повне імя на частинки Прізкище та Імя\n",
      " |  \n",
      " |  ----------------------------------------------------------------------\n",
      " |  Static methods defined here:\n",
      " |  \n",
      " |  hobbi(h=None)\n",
      " |      в таких методах нема вказівника на обєкт\n",
      " |  \n",
      " |  ----------------------------------------------------------------------\n",
      " |  Readonly properties defined here:\n",
      " |  \n",
      " |  college_raiting\n",
      " |  \n",
      " |  name\n",
      " |      Ця властивість є закритою, її можна читати але не можна змінювати\n",
      " |  \n",
      " |  say_hello\n",
      " |  \n",
      " |  surname\n",
      " |  \n",
      " |  ----------------------------------------------------------------------\n",
      " |  Data descriptors defined here:\n",
      " |  \n",
      " |  __dict__\n",
      " |      dictionary for instance variables\n",
      " |  \n",
      " |  __weakref__\n",
      " |      list of weak references to the object\n",
      " |  \n",
      " |  ----------------------------------------------------------------------\n",
      " |  Data and other attributes defined here:\n",
      " |  \n",
      " |  COLLEGE_NAME = 'Це подібне до константи в клосі, але ми можемо її пере...\n",
      " |  \n",
      " |  total_marks = 83\n",
      " |  \n",
      " |  total_students = 5\n",
      " |  \n",
      " |  var_lover_case = 'Це проста класова змінна'\n",
      "\n",
      "Тестовий клас, зараз реалізуємо опис студента\n",
      "    \n",
      "    ---\n",
      "\n",
      "    surname : str\n",
      "        Прізвище студента\n",
      "    \n",
      "    \n",
      "Довжина прізвища:  4\n",
      "Беремо атрибут імені Знань\n"
     ]
    }
   ],
   "source": [
    "from my_class import GG\n",
    "obj = GG(\"Храм\", \"Знань\", 69)\n",
    "\n",
    "print(obj)\n",
    "help(obj)\n",
    "\n",
    "print(GG.__doc__)\n",
    "\n",
    "print(\"Довжина прізвища: \", len(obj))\n",
    "\n",
    "print(\"Беремо атрибут імені\", obj.name)"
   ]
  },
  {
   "cell_type": "code",
   "execution_count": 42,
   "metadata": {},
   "outputs": [
    {
     "name": "stdout",
     "output_type": "stream",
     "text": [
      "Викликаємо __init__\n",
      "Відрахували студента\n",
      "В обєкта будуть нтакі атрибути: {'_GG__surname': 12, '_GG__name': 'дванадцять', 'mark': 12, 'group': None, '_age': None, '_scholarship': 0, 'var_lover_case': 'Перазаписали класові змінну'}\n",
      "Викликаємо __init__\n",
      "Відрахували студента\n",
      "{'_GG__surname': 12, '_GG__name': 'дванадцять', 'mark': 12, 'group': 'TK-41', '_age': None, '_scholarship': 0, 'var_lover_case': 'Перазаписали класові змінну'} але незвичні атрибути будуть доступними для {'_GG__surname': 2, '_GG__name': 'Два', 'mark': 2, 'group': None, '_age': None, '_scholarship': 0, 'var_lover_case': 'Перазаписали класові змінну'}\n",
      "Викликаємо __init__\n",
      "Відрахували студента\n",
      "В цьоьму обєкті ми точно задали всі атрибути {'_GG__surname': 3, '_GG__name': 'Три', 'mark': 3, 'group': 'TK-42', '_age': None, '_scholarship': 0, 'var_lover_case': 'Перазаписали класові змінну'}\n"
     ]
    }
   ],
   "source": [
    "\n",
    "from my_class import GG\n",
    "\n",
    "s1 = GG(12, \"дванадцять\", 12)\n",
    "\n",
    "print(f\"В обєкта будуть нтакі атрибути: {s1.__dict__}\")\n",
    "s1.group = \"TK-41\"\n",
    "\n",
    "s2 = GG(2, \"Два\", 2)\n",
    "print(f\"{s1.__dict__} але незвичні атрибути будуть доступними для {s2.__dict__}\")\n",
    "\n",
    "s3 = GG(3, \"Три\", 3, \"TK-42\")\n",
    "print(f\"В цьоьму обєкті ми точно задали всі атрибути {s3.__dict__}\")"
   ]
  },
  {
   "cell_type": "code",
   "execution_count": 43,
   "metadata": {},
   "outputs": [
    {
     "name": "stdout",
     "output_type": "stream",
     "text": [
      "дванадцять\n",
      "12\n",
      "None\n",
      "12\n"
     ]
    }
   ],
   "source": [
    "\n",
    "print(s1.name)\n",
    "#s1.name = \"Три\"\n",
    "\n",
    "print(s1.surname)\n",
    "\n",
    "print(s1._age)\n",
    "s1._age = 12\n",
    "print(s1._age)\n",
    "\n",
    "# s1.__surname  # хоча ВіжуалСтудіо підкидує автокомплішн, це буде помилка"
   ]
  },
  {
   "cell_type": "code",
   "execution_count": 44,
   "metadata": {},
   "outputs": [
    {
     "name": "stdout",
     "output_type": "stream",
     "text": [
      "Викликаємо __init__\n",
      "Відрахували студента\n",
      "Ми викликали публічний метод\n",
      "Це приватний метод!\n",
      "Ми доступаємось до захищеного методу\n",
      "\n",
      "Тільки прийшли вчитись в коледж: 0\n",
      "Провчились семестр і здали все на 5:  Присвоєно підвищену стипундію\n",
      "І наша стипендія тепер: 1800 грн\n",
      "За другий семетр набрали рейтинг 4 : Присвоєно звичайну стипундію\n",
      "А тепер вона: 1400 грн\n",
      "Перестали вчитись: Рейтинг занизький для стипендії\n",
      "а тепер: 0\n",
      "\n"
     ]
    }
   ],
   "source": [
    "from my_class import GG\n",
    "\n",
    "s1 = GG(15, \"жигуль\", 15)\n",
    "\n",
    "print(s1.fucntion_in_class())\n",
    "print(s1._protected_method_in_class())\n",
    "\n",
    "\n",
    "\n",
    "print(f\"\"\"\n",
    "Тільки прийшли вчитись в коледж: {s1._scholarship}\n",
    "Провчились семестр і здали все на 5:  {s1.calculate_scholarship_after_session(5)}\n",
    "І наша стипендія тепер: {s1._scholarship}\n",
    "За другий семетр набрали рейтинг 4 : {s1.calculate_scholarship_after_session(4)}\n",
    "А тепер вона: {s1._scholarship}\n",
    "Перестали вчитись: {s1.calculate_scholarship_after_session(3)}\n",
    "а тепер: {s1._scholarship}\n",
    "\"\"\")"
   ]
  },
  {
   "cell_type": "code",
   "execution_count": 45,
   "metadata": {},
   "outputs": [
    {
     "name": "stdout",
     "output_type": "stream",
     "text": [
      "Викликаємо __init__\n",
      "Відрахували студента\n",
      "Викликаємо __init__\n",
      "Відрахували студента\n",
      "Перазаписали класові змінну Це проста класова змінна\n",
      "8 19.375\n"
     ]
    }
   ],
   "source": [
    "from my_class import GG\n",
    "\n",
    "s1 = GG(15, \"П'ятнадцям\", 15)\n",
    "s2 = GG(25, \"Двадцять пять\", 25)\n",
    "\n",
    "print(s1.var_lover_case, GG.var_lover_case)\n",
    "print(GG.total_students, s1.college_raiting)"
   ]
  },
  {
   "cell_type": "code",
   "execution_count": 46,
   "metadata": {},
   "outputs": [
    {
     "name": "stdout",
     "output_type": "stream",
     "text": [
      "Викликаємо __init__\n",
      "Відрахували студента\n",
      "В мене зявилось хоббі Азартні ігри\n",
      "На жаль в мене немає Хаббі\n",
      "В мене зявилось хоббі швидка допомога\n"
     ]
    }
   ],
   "source": [
    "from my_class import GG\n",
    "\n",
    "a = GG(2, \"два\", 2)\n",
    "# тут ми неявно вказуємо обєкт і передаємо його у метод\n",
    "a.fucntion_in_class()\n",
    "\n",
    "# викликаємо метод з класу і явно вказуємо на обєкт\n",
    "b = GG.fucntion_in_class(a)\n",
    "\n",
    "# у статичних методів немає вказівника на обєкт, але ми його може викликати з обєкту\n",
    "a.hobbi(\"Азартні ігри\")\n",
    "\n",
    "# також ми викликаємо статичний метод з класу без вказування обєкту\n",
    "GG.hobbi()\n",
    "GG.hobbi(\"швидка допомога\")"
   ]
  },
  {
   "cell_type": "code",
   "execution_count": 47,
   "metadata": {},
   "outputs": [
    {
     "name": "stdout",
     "output_type": "stream",
     "text": [
      "Викликаємо __init__\n",
      "Відрахували студента\n",
      "Викликаємо __init__\n",
      "Відрахували студента\n",
      "Викликаємо __init__\n",
      "Відрахували студента\n",
      "Smith Smith Smith\n"
     ]
    }
   ],
   "source": [
    "\n",
    "from my_class import GG\n",
    "\n",
    "js = GG(\"Smith\", \"Jhon\", 0)\n",
    "\n",
    "f_js = GG.create_from_name_surname(\"Jhon Smith\")\n",
    "\n",
    "r_js = GG.create_from_surname_name(\"Smith Jhon\")\n",
    "print(js.surname, f_js.surname, r_js.surname)"
   ]
  }
 ],
 "metadata": {
  "kernelspec": {
   "display_name": "Python 3",
   "language": "python",
   "name": "python3"
  },
  "language_info": {
   "codemirror_mode": {
    "name": "ipython",
    "version": 3
   },
   "file_extension": ".py",
   "mimetype": "text/x-python",
   "name": "python",
   "nbconvert_exporter": "python",
   "pygments_lexer": "ipython3",
   "version": "3.11.9"
  }
 },
 "nbformat": 4,
 "nbformat_minor": 2
}
